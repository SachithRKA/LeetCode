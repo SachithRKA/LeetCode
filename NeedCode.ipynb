{
 "cells": [
  {
   "cell_type": "code",
   "execution_count": 70,
   "id": "e75bbc9d-1524-4634-8c83-f3c053be8a6a",
   "metadata": {},
   "outputs": [],
   "source": [
    "def isPalindrome(s: str) -> bool:\n",
    "        update_s = s.lower()\n",
    "        update_replace = re.sub(r'[^a-z0-9]','',update_s)\n",
    "        array_s = list(update_replace)\n",
    "        if len(array_s) <= 1: return True\n",
    "        even_odd = len(array_s) % 2 == 1\n",
    "        middle_point = (int)((len(array_s) - 1) / 2)\n",
    "        if even_odd:\n",
    "            array_s.pop(middle_point)\n",
    "\n",
    "        pointer_one = 0\n",
    "        pointer_two = len(array_s) - 1\n",
    "\n",
    "        while (pointer_one < pointer_two):\n",
    "            if array_s[pointer_one] != array_s[pointer_two]:\n",
    "                return False\n",
    "            pointer_one += 1\n",
    "            pointer_two -= 1\n",
    "        return True"
   ]
  },
  {
   "cell_type": "code",
   "execution_count": 65,
   "id": "2dc90f89-3c55-4ae6-a7c5-2959476a79b3",
   "metadata": {},
   "outputs": [
    {
     "data": {
      "text/plain": [
       "True"
      ]
     },
     "execution_count": 65,
     "metadata": {},
     "output_type": "execute_result"
    }
   ],
   "source": [
    "isPalindrome(\"A man, a plan, a canal: Panama\")"
   ]
  },
  {
   "cell_type": "code",
   "execution_count": 66,
   "id": "6ee9120e-072f-4333-86d5-e72e26e0fd05",
   "metadata": {},
   "outputs": [
    {
     "data": {
      "text/plain": [
       "False"
      ]
     },
     "execution_count": 66,
     "metadata": {},
     "output_type": "execute_result"
    }
   ],
   "source": [
    "isPalindrome(\"race a car\")"
   ]
  },
  {
   "cell_type": "code",
   "execution_count": 67,
   "id": "1875d649-9638-4b38-aae6-18f7435ab2b6",
   "metadata": {},
   "outputs": [
    {
     "data": {
      "text/plain": [
       "True"
      ]
     },
     "execution_count": 67,
     "metadata": {},
     "output_type": "execute_result"
    }
   ],
   "source": [
    "isPalindrome(\" \")"
   ]
  },
  {
   "cell_type": "code",
   "execution_count": 68,
   "id": "36444f57-05cc-4eff-94df-32f0638efdbf",
   "metadata": {},
   "outputs": [
    {
     "data": {
      "text/plain": [
       "True"
      ]
     },
     "execution_count": 68,
     "metadata": {},
     "output_type": "execute_result"
    }
   ],
   "source": [
    "isPalindrome(\"a.\")"
   ]
  },
  {
   "cell_type": "code",
   "execution_count": null,
   "id": "68aca8f8-4235-4c39-a012-98dba8a01472",
   "metadata": {},
   "outputs": [],
   "source": []
  }
 ],
 "metadata": {
  "kernelspec": {
   "display_name": "Python 3 (ipykernel)",
   "language": "python",
   "name": "python3"
  },
  "language_info": {
   "codemirror_mode": {
    "name": "ipython",
    "version": 3
   },
   "file_extension": ".py",
   "mimetype": "text/x-python",
   "name": "python",
   "nbconvert_exporter": "python",
   "pygments_lexer": "ipython3",
   "version": "3.10.12"
  }
 },
 "nbformat": 4,
 "nbformat_minor": 5
}
